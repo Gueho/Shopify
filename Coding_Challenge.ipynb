{
 "cells": [
  {
   "cell_type": "markdown",
   "id": "b5fbbfaa",
   "metadata": {},
   "source": [
    "# Fall 2022 Data Science Intern Challenge\n",
    "Please complete the following questions, and provide your thought process/work. You can attach your work in a text file, link, etc. on the application page. Please ensure answers are easily visible for reviewers!"
   ]
  },
  {
   "cell_type": "markdown",
   "id": "bc01b800",
   "metadata": {},
   "source": [
    "### Question 1: Given some sample data, write a program to answer the following: click here to access the required data set\n",
    "On Shopify, we have exactly 100 sneaker shops, and each of these shops sells only one model of shoe. We want to do some analysis of the average order value (AOV). When we look at orders data over a 30 day window, we naively calculate an AOV of $3145.13. Given that we know these shops are selling sneakers, a relatively affordable item, something seems wrong with our analysis.\n"
   ]
  },
  {
   "cell_type": "markdown",
   "id": "98ea3ee5",
   "metadata": {},
   "source": [
    "a. Think about what could be going wrong with our calculation. Think about a better way to evaluate this data.\n"
   ]
  },
  {
   "cell_type": "markdown",
   "id": "595ebbce",
   "metadata": {},
   "source": [
    "There’s some outliers with unusually high numbers of order amount."
   ]
  },
  {
   "cell_type": "markdown",
   "id": "f921d1e6",
   "metadata": {},
   "source": [
    "b. What metric would you report for this dataset? "
   ]
  },
  {
   "cell_type": "markdown",
   "id": "2293246f",
   "metadata": {},
   "source": [
    "Median would be a better metric"
   ]
  },
  {
   "cell_type": "markdown",
   "id": "8faa8f75",
   "metadata": {},
   "source": [
    "c. What is its value?"
   ]
  },
  {
   "cell_type": "markdown",
   "id": "cd888ef8",
   "metadata": {},
   "source": [
    " $284.0"
   ]
  },
  {
   "cell_type": "markdown",
   "id": "6a0b04f5",
   "metadata": {},
   "source": [
    "### Question 2: For this question you’ll need to use SQL. Follow this link to access the data set required for the challenge. Please use queries to answer the following questions. Paste your queries along with your final numerical answers below."
   ]
  },
  {
   "cell_type": "markdown",
   "id": "ced667f6",
   "metadata": {},
   "source": [
    "\n",
    "a. How many orders were shipped by Speedy Express in total?"
   ]
  },
  {
   "cell_type": "markdown",
   "id": "86f0516d",
   "metadata": {},
   "source": [
    "**54**\n",
    "\n",
    "SELECT COUNT(Orders.OrderID), Shippers.ShipperName  \n",
    "FROM Orders  \n",
    "LEFT JOIN Shippers ON Orders.ShipperID = Shippers.ShipperID   \n",
    "GROUP BY Shippers.ShipperName\n"
   ]
  },
  {
   "cell_type": "markdown",
   "id": "4464883a",
   "metadata": {},
   "source": [
    "b. What is the last name of the employee with the most orders?"
   ]
  },
  {
   "cell_type": "markdown",
   "id": "eca67d8d",
   "metadata": {},
   "source": [
    "**Peacock**\n",
    "\n",
    "SELECT COUNT(Orders.OrderID), Employees.EmployeeID, Employees.LastName   FROM Orders  \n",
    "LEFT JOIN Employees ON Employees.EmployeeID = Orders.EmployeeID  \n",
    "GROUP BY Employees.EmployeeID  \n",
    "ORDER BY COUNT(Orders.OrderID) DESC"
   ]
  },
  {
   "cell_type": "markdown",
   "id": "060070ea",
   "metadata": {},
   "source": [
    "c. What product was ordered the most by customers in Germany?"
   ]
  },
  {
   "cell_type": "markdown",
   "id": "a94ce322",
   "metadata": {},
   "source": [
    "\n",
    "**Boston Crab Meat(160)**\n",
    "\n",
    "\n",
    "SELECT ProductName, SUM(Quantity), Country   \n",
    "FROM OrderDetails  \n",
    "LEFT JOIN Orders ON Orders.OrderID = OrderDetails.OrderID  \n",
    "LEFT JOIN Customers ON Orders.CustomerID = Customers.CustomerID   \n",
    "LEFT JOIN Products ON OrderDetails.ProductID = Products.ProductID   \n",
    "GROUP BY ProductName, Country  \n",
    "HAVING Country = 'Germany'  \n",
    "ORDER BY SUM(Quantity) DESC"
   ]
  }
 ],
 "metadata": {
  "kernelspec": {
   "display_name": "Python 3 (ipykernel)",
   "language": "python",
   "name": "python3"
  },
  "language_info": {
   "codemirror_mode": {
    "name": "ipython",
    "version": 3
   },
   "file_extension": ".py",
   "mimetype": "text/x-python",
   "name": "python",
   "nbconvert_exporter": "python",
   "pygments_lexer": "ipython3",
   "version": "3.8.12"
  },
  "toc": {
   "base_numbering": 1,
   "nav_menu": {},
   "number_sections": true,
   "sideBar": true,
   "skip_h1_title": false,
   "title_cell": "Table of Contents",
   "title_sidebar": "Contents",
   "toc_cell": false,
   "toc_position": {},
   "toc_section_display": true,
   "toc_window_display": false
  }
 },
 "nbformat": 4,
 "nbformat_minor": 5
}
