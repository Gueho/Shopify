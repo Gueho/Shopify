{
 "cells": [
  {
   "cell_type": "code",
   "execution_count": 2,
   "id": "a9d7a2e7",
   "metadata": {},
   "outputs": [],
   "source": [
    "import pandas as pd\n",
    "import numpy as np\n",
    "import matplotlib.pyplot as plt\n",
    "import datetime"
   ]
  },
  {
   "cell_type": "code",
   "execution_count": 3,
   "id": "20f22c38",
   "metadata": {},
   "outputs": [],
   "source": [
    "df = pd.read_csv('data_challenge.csv')"
   ]
  },
  {
   "cell_type": "code",
   "execution_count": 4,
   "id": "65731220",
   "metadata": {},
   "outputs": [],
   "source": [
    "df.created_at = pd.to_datetime(df.created_at, format = '%Y-%m')"
   ]
  },
  {
   "cell_type": "code",
   "execution_count": 5,
   "id": "30ad51cc",
   "metadata": {},
   "outputs": [
    {
     "name": "stdout",
     "output_type": "stream",
     "text": [
      "<class 'pandas.core.frame.DataFrame'>\n",
      "RangeIndex: 5000 entries, 0 to 4999\n",
      "Data columns (total 7 columns):\n",
      " #   Column          Non-Null Count  Dtype         \n",
      "---  ------          --------------  -----         \n",
      " 0   order_id        5000 non-null   int64         \n",
      " 1   shop_id         5000 non-null   int64         \n",
      " 2   user_id         5000 non-null   int64         \n",
      " 3   order_amount    5000 non-null   int64         \n",
      " 4   total_items     5000 non-null   int64         \n",
      " 5   payment_method  5000 non-null   object        \n",
      " 6   created_at      5000 non-null   datetime64[ns]\n",
      "dtypes: datetime64[ns](1), int64(5), object(1)\n",
      "memory usage: 273.6+ KB\n"
     ]
    }
   ],
   "source": [
    "df.info()"
   ]
  },
  {
   "cell_type": "code",
   "execution_count": 6,
   "id": "c5921f88",
   "metadata": {},
   "outputs": [],
   "source": [
    "order_counts = df.groupby('shop_id').count().order_id"
   ]
  },
  {
   "cell_type": "code",
   "execution_count": 7,
   "id": "8ddfcbe1",
   "metadata": {},
   "outputs": [],
   "source": [
    "df_group = df.groupby(by = 'shop_id').sum()#x['order_amount'] / x['total_items'])"
   ]
  },
  {
   "cell_type": "code",
   "execution_count": 8,
   "id": "b9e44424",
   "metadata": {},
   "outputs": [
    {
     "data": {
      "text/plain": [
       "shop_id\n",
       "1      308.818182\n",
       "2      174.327273\n",
       "3      305.250000\n",
       "4      258.509804\n",
       "5      290.311111\n",
       "          ...    \n",
       "96     330.000000\n",
       "97     324.000000\n",
       "98     245.362069\n",
       "99     339.444444\n",
       "100    213.675000\n",
       "Length: 100, dtype: float64"
      ]
     },
     "execution_count": 8,
     "metadata": {},
     "output_type": "execute_result"
    }
   ],
   "source": [
    "df_group.order_amount / order_counts"
   ]
  },
  {
   "cell_type": "code",
   "execution_count": 19,
   "id": "02d5b82d",
   "metadata": {},
   "outputs": [
    {
     "data": {
      "text/plain": [
       "<matplotlib.collections.PathCollection at 0x132ef6250>"
      ]
     },
     "execution_count": 19,
     "metadata": {},
     "output_type": "execute_result"
    },
    {
     "data": {
      "image/png": "[encoded data removed]",
      "text/plain": [
       "<Figure size 432x288 with 1 Axes>"
      ]
     },
     "metadata": {
      "needs_background": "light"
     },
     "output_type": "display_data"
    }
   ],
   "source": [
    "plt.scatter(df.order_amount.value_counts().index, df.order_amount.value_counts())"
   ]
  },
  {
   "cell_type": "code",
   "execution_count": 20,
   "id": "954dd290",
   "metadata": {},
   "outputs": [
    {
     "data": {
      "text/plain": [
       "(284.0, 3145.128)"
      ]
     },
     "execution_count": 20,
     "metadata": {},
     "output_type": "execute_result"
    }
   ],
   "source": [
    "np.median(df.order_amount), np.mean(df.order_amount)"
   ]
  },
  {
   "cell_type": "code",
   "execution_count": null,
   "id": "f2e0a03c",
   "metadata": {},
   "outputs": [],
   "source": []
  }
 ],
 "metadata": {
  "kernelspec": {
   "display_name": "Python 3 (ipykernel)",
   "language": "python",
   "name": "python3"
  },
  "language_info": {
   "codemirror_mode": {
    "name": "ipython",
    "version": 3
   },
   "file_extension": ".py",
   "mimetype": "text/x-python",
   "name": "python",
   "nbconvert_exporter": "python",
   "pygments_lexer": "ipython3",
   "version": "3.8.12"
  },
  "toc": {
   "base_numbering": 1,
   "nav_menu": {},
   "number_sections": true,
   "sideBar": true,
   "skip_h1_title": false,
   "title_cell": "Table of Contents",
   "title_sidebar": "Contents",
   "toc_cell": false,
   "toc_position": {},
   "toc_section_display": true,
   "toc_window_display": false
  }
 },
 "nbformat": 4,
 "nbformat_minor": 5
}
